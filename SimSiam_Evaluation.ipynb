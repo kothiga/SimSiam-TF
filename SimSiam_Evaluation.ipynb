{
 "cells": [
  {
   "cell_type": "markdown",
   "metadata": {
    "colab_type": "text",
    "id": "view-in-github"
   },
   "source": [
    "<a href=\"https://colab.research.google.com/github/sayakpaul/SimSiam-TF/blob/main/SimSiam_Evaluation.ipynb\" target=\"_parent\"><img src=\"https://colab.research.google.com/assets/colab-badge.svg\" alt=\"Open In Colab\"/></a>"
   ]
  },
  {
   "cell_type": "markdown",
   "metadata": {
    "id": "spvkjI26p5hP"
   },
   "source": [
    "This notebook evaluates the frozen features of a ResNet50 pre-trained (50 epochs of pre-training) using the [SimSiam method](https://arxiv.org/abs/2011.10566). You can refer to the [pre-training notebook here](https://github.com/sayakpaul/SimSiam-TF/blob/main/SimSiam_Pre_training.ipynb). Following evaluation methods have been used - \n",
    "\n",
    "* Linear evaluation of the frozen features\n",
    "\n",
    "*Please note that to keep this minimal I did not follow the original hyperparameter configurations rigorously.*  "
   ]
  },
  {
   "cell_type": "markdown",
   "metadata": {
    "id": "bHxqoL8criDm"
   },
   "source": [
    "## Initial setup"
   ]
  },
  {
   "cell_type": "code",
   "execution_count": 1,
   "metadata": {
    "colab": {
     "base_uri": "https://localhost:8080/"
    },
    "id": "jjv_xR31qway",
    "outputId": "0540994e-cb2e-4e81-9b55-3c44c75bd382"
   },
   "outputs": [
    {
     "name": "stdout",
     "output_type": "stream",
     "text": [
      "Mon Dec  6 17:25:07 2021       \n",
      "+-----------------------------------------------------------------------------+\n",
      "| NVIDIA-SMI 460.91.03    Driver Version: 460.91.03    CUDA Version: 11.2     |\n",
      "|-------------------------------+----------------------+----------------------+\n",
      "| GPU  Name        Persistence-M| Bus-Id        Disp.A | Volatile Uncorr. ECC |\n",
      "| Fan  Temp  Perf  Pwr:Usage/Cap|         Memory-Usage | GPU-Util  Compute M. |\n",
      "|                               |                      |               MIG M. |\n",
      "|===============================+======================+======================|\n",
      "|   0  GeForce GTX 107...  Off  | 00000000:01:00.0  On |                  N/A |\n",
      "|  0%   49C    P0    39W / 180W |    402MiB /  8111MiB |      9%      Default |\n",
      "|                               |                      |                  N/A |\n",
      "+-------------------------------+----------------------+----------------------+\n",
      "                                                                               \n",
      "+-----------------------------------------------------------------------------+\n",
      "| Processes:                                                                  |\n",
      "|  GPU   GI   CI        PID   Type   Process name                  GPU Memory |\n",
      "|        ID   ID                                                   Usage      |\n",
      "|=============================================================================|\n",
      "|    0   N/A  N/A      1082      G   /usr/lib/xorg/Xorg                 59MiB |\n",
      "|    0   N/A  N/A      1880      G   /usr/lib/xorg/Xorg                167MiB |\n",
      "|    0   N/A  N/A      2014      G   /usr/bin/gnome-shell               44MiB |\n",
      "|    0   N/A  N/A      4185      G   ...AAAAAAAAA= --shared-files       10MiB |\n",
      "|    0   N/A  N/A      7702      G   ...AAAAAAAAA= --shared-files       99MiB |\n",
      "|    0   N/A  N/A      8401      G   /usr/bin/nvidia-settings            0MiB |\n",
      "+-----------------------------------------------------------------------------+\n"
     ]
    }
   ],
   "source": [
    "!nvidia-smi"
   ]
  },
  {
   "cell_type": "code",
   "execution_count": 2,
   "metadata": {
    "id": "gFTq1rLLpxm9"
   },
   "outputs": [
    {
     "name": "stdout",
     "output_type": "stream",
     "text": [
      "2.7.0\n"
     ]
    }
   ],
   "source": [
    "import tensorflow as tf\n",
    "print(tf.__version__)"
   ]
  },
  {
   "cell_type": "code",
   "execution_count": 3,
   "metadata": {
    "id": "eabbJmtEqxZx"
   },
   "outputs": [],
   "source": [
    "import tensorflow_datasets as tfds\n",
    "tfds.disable_progress_bar()\n",
    "\n",
    "import matplotlib.pyplot as plt\n",
    "import numpy as np\n",
    "import random\n",
    "import time\n",
    "import os\n",
    "\n",
    "tf.random.set_seed(666)\n",
    "np.random.seed(666)"
   ]
  },
  {
   "cell_type": "code",
   "execution_count": 4,
   "metadata": {
    "id": "fWxQyUYJrAoz"
   },
   "outputs": [],
   "source": [
    "# Retrieve the weights (50 epochs pre-training) of the projection head\n",
    "#!wget -q https://github.com/sayakpaul/SimSiam-TF/releases/download/v1.0.0/projection.h5"
   ]
  },
  {
   "cell_type": "markdown",
   "metadata": {
    "id": "9pVwjqIDrbNR"
   },
   "source": [
    "## Dataset collection & preparation\n",
    "\n",
    "The following code is referred from [here](https://github.com/ayulockin/SwAV-TF/blob/master/linear_evaluation/Linear_Evaluation_10_Epochs.ipynb). "
   ]
  },
  {
   "cell_type": "code",
   "execution_count": 5,
   "metadata": {
    "colab": {
     "base_uri": "https://localhost:8080/"
    },
    "id": "mqcYr9UMrNtt",
    "outputId": "c286bf12-4f9b-43ef-d957-436831406f66"
   },
   "outputs": [
    {
     "name": "stderr",
     "output_type": "stream",
     "text": [
      "2021-12-06 17:25:09.743058: I tensorflow/stream_executor/cuda/cuda_gpu_executor.cc:939] successful NUMA node read from SysFS had negative value (-1), but there must be at least one NUMA node, so returning NUMA node zero\n",
      "2021-12-06 17:25:09.784067: I tensorflow/stream_executor/cuda/cuda_gpu_executor.cc:939] successful NUMA node read from SysFS had negative value (-1), but there must be at least one NUMA node, so returning NUMA node zero\n",
      "2021-12-06 17:25:09.784420: I tensorflow/stream_executor/cuda/cuda_gpu_executor.cc:939] successful NUMA node read from SysFS had negative value (-1), but there must be at least one NUMA node, so returning NUMA node zero\n",
      "2021-12-06 17:25:09.785486: I tensorflow/core/platform/cpu_feature_guard.cc:151] This TensorFlow binary is optimized with oneAPI Deep Neural Network Library (oneDNN) to use the following CPU instructions in performance-critical operations:  AVX2 FMA\n",
      "To enable them in other operations, rebuild TensorFlow with the appropriate compiler flags.\n",
      "2021-12-06 17:25:09.786330: I tensorflow/stream_executor/cuda/cuda_gpu_executor.cc:939] successful NUMA node read from SysFS had negative value (-1), but there must be at least one NUMA node, so returning NUMA node zero\n",
      "2021-12-06 17:25:09.786664: I tensorflow/stream_executor/cuda/cuda_gpu_executor.cc:939] successful NUMA node read from SysFS had negative value (-1), but there must be at least one NUMA node, so returning NUMA node zero\n",
      "2021-12-06 17:25:09.786973: I tensorflow/stream_executor/cuda/cuda_gpu_executor.cc:939] successful NUMA node read from SysFS had negative value (-1), but there must be at least one NUMA node, so returning NUMA node zero\n",
      "2021-12-06 17:25:10.331282: I tensorflow/stream_executor/cuda/cuda_gpu_executor.cc:939] successful NUMA node read from SysFS had negative value (-1), but there must be at least one NUMA node, so returning NUMA node zero\n",
      "2021-12-06 17:25:10.331578: I tensorflow/stream_executor/cuda/cuda_gpu_executor.cc:939] successful NUMA node read from SysFS had negative value (-1), but there must be at least one NUMA node, so returning NUMA node zero\n",
      "2021-12-06 17:25:10.331829: I tensorflow/stream_executor/cuda/cuda_gpu_executor.cc:939] successful NUMA node read from SysFS had negative value (-1), but there must be at least one NUMA node, so returning NUMA node zero\n",
      "2021-12-06 17:25:10.332067: I tensorflow/core/common_runtime/gpu/gpu_device.cc:1525] Created device /job:localhost/replica:0/task:0/device:GPU:0 with 7000 MB memory:  -> device: 0, name: GeForce GTX 1070 Ti, pci bus id: 0000:01:00.0, compute capability: 6.1\n"
     ]
    }
   ],
   "source": [
    "# Gather Flowers dataset\n",
    "train_ds, validation_ds = tfds.load(\n",
    "    \"imagenet2012_subset/10pct\",\n",
    "    split=[\"train[:85%]\", \"train[85%:]\"],\n",
    "    as_supervised=True\n",
    ")\n",
    "\n",
    "AUTO = tf.data.experimental.AUTOTUNE\n",
    "BATCH_SIZE = 64\n",
    "\n",
    "@tf.function\n",
    "def scale_resize_image(image, label):\n",
    "    image = tf.image.convert_image_dtype(image, tf.float32)\n",
    "    image = tf.image.resize(image, (224, 224)) # Resizing to highest resolution used while training swav\n",
    "    return (image, label)\n",
    "\n",
    "training_ds = (\n",
    "    train_ds\n",
    "    .map(scale_resize_image, num_parallel_calls=AUTO)\n",
    "    .batch(BATCH_SIZE)\n",
    "    .prefetch(AUTO)\n",
    ")\n",
    "\n",
    "validation_ds = (\n",
    "    validation_ds\n",
    "    .map(scale_resize_image, num_parallel_calls=AUTO)\n",
    "    .batch(BATCH_SIZE)\n",
    "    .prefetch(AUTO)\n",
    ")"
   ]
  },
  {
   "cell_type": "markdown",
   "metadata": {
    "id": "kvAOIxtruK4S"
   },
   "source": [
    "## Utility functions"
   ]
  },
  {
   "cell_type": "code",
   "execution_count": 6,
   "metadata": {
    "id": "g91yjhLhrH41"
   },
   "outputs": [],
   "source": [
    "def get_encoder():\n",
    "    base_model = tf.keras.applications.ResNet50(include_top=False,\n",
    "        weights=None, input_shape=(224, 224, 3))\n",
    "    base_model.trainable = True\n",
    "\n",
    "    inputs = tf.keras.layers.Input((224, 224, 3))\n",
    "    x = base_model(inputs, training=True)\n",
    "    x = tf.keras.layers.GlobalAveragePooling2D()(x)\n",
    "    x = tf.keras.layers.Dense(2048, activation='relu', use_bias=False)(x)\n",
    "    x = tf.keras.layers.BatchNormalization()(x)\n",
    "    z = tf.keras.layers.Dense(2048)(x)\n",
    "\n",
    "    f = tf.keras.Model(inputs, z)\n",
    "\n",
    "    return f"
   ]
  },
  {
   "cell_type": "code",
   "execution_count": 7,
   "metadata": {
    "colab": {
     "base_uri": "https://localhost:8080/"
    },
    "id": "hFTZNOpIsSLm",
    "outputId": "e0199d8d-502c-4b22-b155-8dfc3d9a65c1"
   },
   "outputs": [
    {
     "name": "stdout",
     "output_type": "stream",
     "text": [
      "Model: \"model\"\n",
      "_________________________________________________________________\n",
      " Layer (type)                Output Shape              Param #   \n",
      "=================================================================\n",
      " input_2 (InputLayer)        [(None, 224, 224, 3)]     0         \n",
      "                                                                 \n",
      " resnet50 (Functional)       (None, 7, 7, 2048)        23587712  \n",
      "                                                                 \n",
      " global_average_pooling2d (G  (None, 2048)             0         \n",
      " lobalAveragePooling2D)                                          \n",
      "                                                                 \n",
      " dense (Dense)               (None, 2048)              4194304   \n",
      "                                                                 \n",
      " batch_normalization (BatchN  (None, 2048)             8192      \n",
      " ormalization)                                                   \n",
      "                                                                 \n",
      " dense_1 (Dense)             (None, 2048)              4196352   \n",
      "                                                                 \n",
      "=================================================================\n",
      "Total params: 31,986,560\n",
      "Trainable params: 31,929,344\n",
      "Non-trainable params: 57,216\n",
      "_________________________________________________________________\n"
     ]
    }
   ],
   "source": [
    "get_encoder().summary()"
   ]
  },
  {
   "cell_type": "code",
   "execution_count": 8,
   "metadata": {
    "colab": {
     "base_uri": "https://localhost:8080/"
    },
    "id": "KhGhjwwzr5yi",
    "outputId": "ff44cd06-e17f-411a-a43f-fcba43f8f32f"
   },
   "outputs": [
    {
     "name": "stdout",
     "output_type": "stream",
     "text": [
      "Model: \"model_2\"\n",
      "_________________________________________________________________\n",
      " Layer (type)                Output Shape              Param #   \n",
      "=================================================================\n",
      " input_4 (InputLayer)        [(None, 224, 224, 3)]     0         \n",
      "                                                                 \n",
      " resnet50 (Functional)       (None, 7, 7, 2048)        23587712  \n",
      "                                                                 \n",
      " global_average_pooling2d_1   (None, 2048)             0         \n",
      " (GlobalAveragePooling2D)                                        \n",
      "                                                                 \n",
      "=================================================================\n",
      "Total params: 23,587,712\n",
      "Trainable params: 23,534,592\n",
      "Non-trainable params: 53,120\n",
      "_________________________________________________________________\n"
     ]
    }
   ],
   "source": [
    "# We now load up the pre-trained weights\n",
    "projection = get_encoder()\n",
    "projection.load_weights('projection_024.h5')\n",
    "\n",
    "# Create a sub-model for extracting features\n",
    "rn50 = tf.keras.Model(projection.input, projection.layers[2].output)\n",
    "rn50.summary()"
   ]
  },
  {
   "cell_type": "code",
   "execution_count": 9,
   "metadata": {
    "id": "fbSkm4NPsecS"
   },
   "outputs": [],
   "source": [
    "def get_linear_classifier(feature_backbone, trainable=False):\n",
    "    inputs = tf.keras.layers.Input(shape=(224, 224, 3))\n",
    "    \n",
    "    feature_backbone.trainable = trainable\n",
    "    x = feature_backbone(inputs, training=False)\n",
    "    outputs = tf.keras.layers.Dense(1000, activation=\"softmax\", )(x)\n",
    "    linear_model = tf.keras.Model(inputs, outputs)\n",
    "\n",
    "    return linear_model"
   ]
  },
  {
   "cell_type": "code",
   "execution_count": 10,
   "metadata": {
    "colab": {
     "base_uri": "https://localhost:8080/"
    },
    "id": "DP-lW-7ms7Lj",
    "outputId": "34b76e31-6f6f-48af-ff03-3e15963d51fa"
   },
   "outputs": [
    {
     "name": "stdout",
     "output_type": "stream",
     "text": [
      "Model: \"model_3\"\n",
      "_________________________________________________________________\n",
      " Layer (type)                Output Shape              Param #   \n",
      "=================================================================\n",
      " input_5 (InputLayer)        [(None, 224, 224, 3)]     0         \n",
      "                                                                 \n",
      " model_2 (Functional)        (None, 2048)              23587712  \n",
      "                                                                 \n",
      " dense_4 (Dense)             (None, 1000)              2049000   \n",
      "                                                                 \n",
      "=================================================================\n",
      "Total params: 25,636,712\n",
      "Trainable params: 2,049,000\n",
      "Non-trainable params: 23,587,712\n",
      "_________________________________________________________________\n"
     ]
    }
   ],
   "source": [
    "get_linear_classifier(rn50).summary()"
   ]
  },
  {
   "cell_type": "code",
   "execution_count": 11,
   "metadata": {
    "id": "drzXtvV2tdjW"
   },
   "outputs": [],
   "source": [
    "def plot_progress(hist):\n",
    "    plt.plot(hist.history[\"loss\"], label=\"train_loss\")\n",
    "    plt.plot(hist.history[\"val_loss\"], label=\"validation_loss\")\n",
    "    plt.plot(hist.history[\"accuracy\"], label=\"training_accuracy\")\n",
    "    plt.plot(hist.history[\"val_accuracy\"], label=\"validation_accuracy\")\n",
    "    plt.title(\"Training Progress\")\n",
    "    plt.ylabel(\"accuracy/loss\")\n",
    "    plt.xlabel(\"epoch\")\n",
    "    plt.legend(loc=\"upper left\")\n",
    "    plt.grid()\n",
    "    plt.show()"
   ]
  },
  {
   "cell_type": "markdown",
   "metadata": {
    "id": "TNAn38zSuSUV"
   },
   "source": [
    "## Linear evaluation"
   ]
  },
  {
   "cell_type": "code",
   "execution_count": 12,
   "metadata": {
    "id": "lBw85iBGs-Cm"
   },
   "outputs": [],
   "source": [
    "# Early Stopping to prevent overfitting\n",
    "#early_stopper = tf.keras.callbacks.EarlyStopping(monitor=\"val_loss\", \n",
    "#                                                 patience=5, verbose=2, \n",
    "#                                                 restore_best_weights=True)"
   ]
  },
  {
   "cell_type": "code",
   "execution_count": 13,
   "metadata": {
    "colab": {
     "base_uri": "https://localhost:8080/",
     "height": 1000
    },
    "id": "BxH5ImyItN59",
    "outputId": "87b90427-fe76-472c-ac3a-f6778f7758ec"
   },
   "outputs": [
    {
     "name": "stdout",
     "output_type": "stream",
     "text": [
      "Epoch 1/50\n"
     ]
    },
    {
     "name": "stderr",
     "output_type": "stream",
     "text": [
      "2021-12-06 17:25:15.934138: I tensorflow/stream_executor/cuda/cuda_dnn.cc:366] Loaded cuDNN version 8301\n",
      "2021-12-06 17:25:16.496286: I tensorflow/core/platform/default/subprocess.cc:304] Start cannot spawn child process: No such file or directory\n",
      "2021-12-06 17:25:16.496945: I tensorflow/core/platform/default/subprocess.cc:304] Start cannot spawn child process: No such file or directory\n",
      "2021-12-06 17:25:16.496981: W tensorflow/stream_executor/gpu/asm_compiler.cc:80] Couldn't get ptxas version string: INTERNAL: Couldn't invoke ptxas --version\n",
      "2021-12-06 17:25:16.497656: I tensorflow/core/platform/default/subprocess.cc:304] Start cannot spawn child process: No such file or directory\n",
      "2021-12-06 17:25:16.497700: W tensorflow/stream_executor/gpu/redzone_allocator.cc:314] INTERNAL: Failed to launch ptxas\n",
      "Relying on driver to perform ptx compilation. \n",
      "Modify $PATH to customize ptxas location.\n",
      "This message will be only logged once.\n"
     ]
    },
    {
     "name": "stdout",
     "output_type": "stream",
     "text": [
      "1702/1702 [==============================] - 356s 207ms/step - loss: 9.7911 - accuracy: 0.0016 - val_loss: 9.9740 - val_accuracy: 0.0015\n",
      "Epoch 2/50\n",
      "1702/1702 [==============================] - 358s 210ms/step - loss: 9.4463 - accuracy: 0.0033 - val_loss: 9.9296 - val_accuracy: 0.0019\n",
      "Epoch 3/50\n",
      "1702/1702 [==============================] - 345s 203ms/step - loss: 9.2428 - accuracy: 0.0050 - val_loss: 9.9703 - val_accuracy: 0.0025\n",
      "Epoch 4/50\n",
      "1702/1702 [==============================] - 307s 180ms/step - loss: 9.0374 - accuracy: 0.0075 - val_loss: 9.8562 - val_accuracy: 0.0037\n",
      "Epoch 5/50\n",
      "1702/1702 [==============================] - 307s 180ms/step - loss: 8.8757 - accuracy: 0.0097 - val_loss: 9.9133 - val_accuracy: 0.0039\n",
      "Epoch 6/50\n",
      "1702/1702 [==============================] - 307s 180ms/step - loss: 8.7259 - accuracy: 0.0122 - val_loss: 10.0041 - val_accuracy: 0.0038\n",
      "Epoch 7/50\n",
      "1702/1702 [==============================] - 307s 180ms/step - loss: 8.5960 - accuracy: 0.0147 - val_loss: 9.9380 - val_accuracy: 0.0035\n",
      "Epoch 8/50\n",
      "1702/1702 [==============================] - 307s 180ms/step - loss: 8.4418 - accuracy: 0.0180 - val_loss: 10.1041 - val_accuracy: 0.0044\n",
      "Epoch 9/50\n",
      "1702/1702 [==============================] - 307s 180ms/step - loss: 8.3013 - accuracy: 0.0213 - val_loss: 9.9310 - val_accuracy: 0.0046\n",
      "Epoch 10/50\n",
      "1702/1702 [==============================] - 307s 180ms/step - loss: 8.1839 - accuracy: 0.0249 - val_loss: 10.1183 - val_accuracy: 0.0044\n",
      "Epoch 11/50\n",
      "1702/1702 [==============================] - 307s 180ms/step - loss: 8.0656 - accuracy: 0.0284 - val_loss: 9.9970 - val_accuracy: 0.0047\n",
      "Epoch 12/50\n",
      "1702/1702 [==============================] - 307s 180ms/step - loss: 7.9842 - accuracy: 0.0322 - val_loss: 10.0502 - val_accuracy: 0.0048\n",
      "Epoch 13/50\n",
      "1702/1702 [==============================] - 307s 180ms/step - loss: 7.8322 - accuracy: 0.0362 - val_loss: 10.1392 - val_accuracy: 0.0046\n",
      "Epoch 14/50\n",
      "1702/1702 [==============================] - 307s 180ms/step - loss: 7.7285 - accuracy: 0.0398 - val_loss: 10.1470 - val_accuracy: 0.0046\n",
      "Epoch 15/50\n",
      "1702/1702 [==============================] - 307s 180ms/step - loss: 7.6377 - accuracy: 0.0437 - val_loss: 10.1957 - val_accuracy: 0.0045\n",
      "Epoch 16/50\n",
      "1702/1702 [==============================] - 321s 188ms/step - loss: 7.5252 - accuracy: 0.0482 - val_loss: 10.1559 - val_accuracy: 0.0050\n",
      "Epoch 17/50\n",
      "1702/1702 [==============================] - 324s 190ms/step - loss: 7.4337 - accuracy: 0.0521 - val_loss: 10.2126 - val_accuracy: 0.0047\n",
      "Epoch 18/50\n",
      "1702/1702 [==============================] - 324s 190ms/step - loss: 7.3334 - accuracy: 0.0564 - val_loss: 10.2918 - val_accuracy: 0.0049\n",
      "Epoch 19/50\n",
      "1702/1702 [==============================] - 313s 184ms/step - loss: 7.2248 - accuracy: 0.0616 - val_loss: 10.1896 - val_accuracy: 0.0055\n",
      "Epoch 20/50\n",
      "1702/1702 [==============================] - 307s 180ms/step - loss: 7.1660 - accuracy: 0.0654 - val_loss: 10.0401 - val_accuracy: 0.0057\n",
      "Epoch 21/50\n",
      "1702/1702 [==============================] - 306s 180ms/step - loss: 7.0360 - accuracy: 0.0703 - val_loss: 10.2989 - val_accuracy: 0.0054\n",
      "Epoch 22/50\n",
      "1702/1702 [==============================] - 307s 180ms/step - loss: 6.9768 - accuracy: 0.0756 - val_loss: 10.3622 - val_accuracy: 0.0054\n",
      "Epoch 23/50\n",
      "1702/1702 [==============================] - 306s 180ms/step - loss: 6.8704 - accuracy: 0.0798 - val_loss: 10.2922 - val_accuracy: 0.0055\n",
      "Epoch 24/50\n",
      "1702/1702 [==============================] - 307s 180ms/step - loss: 6.7952 - accuracy: 0.0845 - val_loss: 10.1388 - val_accuracy: 0.0061\n",
      "Epoch 25/50\n",
      "1702/1702 [==============================] - 307s 180ms/step - loss: 6.7205 - accuracy: 0.0898 - val_loss: 10.3262 - val_accuracy: 0.0065\n",
      "Epoch 26/50\n",
      "1702/1702 [==============================] - 306s 180ms/step - loss: 6.6415 - accuracy: 0.0953 - val_loss: 10.3913 - val_accuracy: 0.0054\n",
      "Epoch 27/50\n",
      "1702/1702 [==============================] - 306s 180ms/step - loss: 6.5708 - accuracy: 0.0995 - val_loss: 10.4499 - val_accuracy: 0.0053\n",
      "Epoch 28/50\n",
      "1702/1702 [==============================] - 306s 180ms/step - loss: 6.4774 - accuracy: 0.1048 - val_loss: 10.3984 - val_accuracy: 0.0061\n",
      "Epoch 29/50\n",
      "1702/1702 [==============================] - 307s 180ms/step - loss: 6.4249 - accuracy: 0.1098 - val_loss: 10.4251 - val_accuracy: 0.0057\n",
      "Epoch 30/50\n",
      "1702/1702 [==============================] - 307s 180ms/step - loss: 6.3241 - accuracy: 0.1154 - val_loss: 10.4653 - val_accuracy: 0.0063\n",
      "Epoch 31/50\n",
      "1702/1702 [==============================] - 307s 180ms/step - loss: 6.2795 - accuracy: 0.1197 - val_loss: 10.5387 - val_accuracy: 0.0054\n",
      "Epoch 32/50\n",
      "1702/1702 [==============================] - 307s 180ms/step - loss: 6.2018 - accuracy: 0.1247 - val_loss: 10.5832 - val_accuracy: 0.0057\n",
      "Epoch 33/50\n",
      "1702/1702 [==============================] - 307s 180ms/step - loss: 6.1192 - accuracy: 0.1303 - val_loss: 10.4518 - val_accuracy: 0.0060\n",
      "Epoch 34/50\n",
      "1702/1702 [==============================] - 307s 180ms/step - loss: 6.0422 - accuracy: 0.1355 - val_loss: 10.3900 - val_accuracy: 0.0059\n",
      "Epoch 35/50\n",
      "1702/1702 [==============================] - 306s 180ms/step - loss: 5.9844 - accuracy: 0.1403 - val_loss: 10.4507 - val_accuracy: 0.0057\n",
      "Epoch 36/50\n",
      "1702/1702 [==============================] - 322s 189ms/step - loss: 5.9294 - accuracy: 0.1451 - val_loss: 10.5507 - val_accuracy: 0.0054\n",
      "Epoch 37/50\n",
      "1702/1702 [==============================] - 324s 190ms/step - loss: 5.8619 - accuracy: 0.1507 - val_loss: 10.8695 - val_accuracy: 0.0051\n",
      "Epoch 38/50\n",
      "1702/1702 [==============================] - 324s 190ms/step - loss: 5.8171 - accuracy: 0.1551 - val_loss: 10.6306 - val_accuracy: 0.0062\n",
      "Epoch 39/50\n",
      "1702/1702 [==============================] - 307s 180ms/step - loss: 5.7469 - accuracy: 0.1602 - val_loss: 10.5916 - val_accuracy: 0.0058\n",
      "Epoch 40/50\n",
      "1702/1702 [==============================] - 307s 180ms/step - loss: 5.6498 - accuracy: 0.1665 - val_loss: 10.7295 - val_accuracy: 0.0053\n",
      "Epoch 41/50\n",
      "1702/1702 [==============================] - 306s 180ms/step - loss: 5.6257 - accuracy: 0.1711 - val_loss: 10.6779 - val_accuracy: 0.0059\n",
      "Epoch 42/50\n",
      "1702/1702 [==============================] - 306s 180ms/step - loss: 5.5590 - accuracy: 0.1763 - val_loss: 10.7586 - val_accuracy: 0.0062\n",
      "Epoch 43/50\n",
      "1702/1702 [==============================] - 306s 180ms/step - loss: 5.5058 - accuracy: 0.1806 - val_loss: 10.9083 - val_accuracy: 0.0054\n",
      "Epoch 44/50\n",
      "1702/1702 [==============================] - 306s 180ms/step - loss: 5.4538 - accuracy: 0.1861 - val_loss: 10.8186 - val_accuracy: 0.0061\n",
      "Epoch 45/50\n",
      "1702/1702 [==============================] - 306s 180ms/step - loss: 5.4117 - accuracy: 0.1906 - val_loss: 10.9340 - val_accuracy: 0.0054\n",
      "Epoch 46/50\n",
      "1702/1702 [==============================] - 314s 185ms/step - loss: 5.3584 - accuracy: 0.1951 - val_loss: 10.6670 - val_accuracy: 0.0059\n",
      "Epoch 47/50\n",
      "1702/1702 [==============================] - 324s 190ms/step - loss: 5.2881 - accuracy: 0.2013 - val_loss: 10.8983 - val_accuracy: 0.0063\n",
      "Epoch 48/50\n",
      "1702/1702 [==============================] - 324s 190ms/step - loss: 5.2237 - accuracy: 0.2067 - val_loss: 10.7137 - val_accuracy: 0.0064\n",
      "Epoch 49/50\n",
      "1702/1702 [==============================] - 314s 184ms/step - loss: 5.2097 - accuracy: 0.2102 - val_loss: 11.0559 - val_accuracy: 0.0059\n",
      "Epoch 50/50\n",
      "1702/1702 [==============================] - 320s 188ms/step - loss: 5.1554 - accuracy: 0.2158 - val_loss: 11.0769 - val_accuracy: 0.0060\n"
     ]
    },
    {
     "data": {
      "image/png": "[encoded data removed]",
      "text/plain": [
       "<Figure size 432x288 with 1 Axes>"
      ]
     },
     "metadata": {
      "needs_background": "light"
     },
     "output_type": "display_data"
    }
   ],
   "source": [
    "# Get linear model and compile\n",
    "tf.keras.backend.clear_session()\n",
    "model = get_linear_classifier(rn50)\n",
    "model.compile(loss=\"sparse_categorical_crossentropy\", metrics=[\"accuracy\"],\n",
    "                     optimizer=\"adam\")\n",
    "\n",
    "# Train \n",
    "history = model.fit(training_ds,\n",
    "                 validation_data=validation_ds,\n",
    "                 epochs=50,\n",
    "                 #callbacks=[early_stopper]\n",
    "                 )\n",
    "plot_progress(history)"
   ]
  },
  {
   "cell_type": "code",
   "execution_count": 14,
   "metadata": {
    "colab": {
     "base_uri": "https://localhost:8080/"
    },
    "id": "NctQf484t4GR",
    "outputId": "d1449782-c614-41ff-b5a5-6448978db53f"
   },
   "outputs": [
    {
     "name": "stdout",
     "output_type": "stream",
     "text": [
      "301/301 [==============================] - 53s 177ms/step - loss: 11.0769 - accuracy: 0.0060\n",
      "Validation accuracy: 0.6\n"
     ]
    }
   ],
   "source": [
    "_, acc = model.evaluate(validation_ds)\n",
    "print('Validation accuracy:', round(acc*100, 2))"
   ]
  },
  {
   "cell_type": "markdown",
   "metadata": {
    "id": "ykzPyP-uyJRu"
   },
   "source": [
    "For a minimal implementation the scores aren't that bad. "
   ]
  },
  {
   "cell_type": "code",
   "execution_count": 15,
   "metadata": {},
   "outputs": [
    {
     "data": {
      "image/png": "[encoded data removed]",
      "text/plain": [
       "<Figure size 720x432 with 1 Axes>"
      ]
     },
     "metadata": {
      "needs_background": "light"
     },
     "output_type": "display_data"
    },
    {
     "data": {
      "image/png": "[encoded data removed]",
      "text/plain": [
       "<Figure size 720x432 with 1 Axes>"
      ]
     },
     "metadata": {
      "needs_background": "light"
     },
     "output_type": "display_data"
    }
   ],
   "source": [
    "def plot_progress_acc(hist):\n",
    "    fig, axs = plt.subplots(1,1, figsize=(10,6))\n",
    "    plt.plot(hist.history[\"accuracy\"], label=\"training_accuracy\")\n",
    "    plt.plot(hist.history[\"val_accuracy\"], label=\"validation_accuracy\")\n",
    "    plt.title(\"Training Progress -- Accuracy\", size=20)\n",
    "    plt.ylabel(\"accuracy\", size=20); plt.yticks(size=15)\n",
    "    plt.xlabel(\"epoch\", size=20); plt.xticks(size=15)\n",
    "    plt.legend(loc=\"upper left\")\n",
    "    plt.grid()\n",
    "    plt.show()\n",
    "\n",
    "def plot_progress_loss(hist):\n",
    "    fig, axs = plt.subplots(1,1, figsize=(10,6))\n",
    "    plt.plot(hist.history[\"loss\"], label=\"train_loss\")\n",
    "    plt.plot(hist.history[\"val_loss\"], label=\"validation_loss\")\n",
    "    plt.title(\"Training Progress -- Loss\", size=20)\n",
    "    plt.ylabel(\"loss\", size=20); plt.yticks(size=15)\n",
    "    plt.xlabel(\"epoch\", size=20); plt.xticks(size=15)\n",
    "    plt.legend(loc=\"lower left\")\n",
    "    plt.grid()\n",
    "    plt.show()\n",
    "\n",
    "plot_progress_acc(history)\n",
    "plot_progress_loss(history)"
   ]
  },
  {
   "cell_type": "code",
   "execution_count": null,
   "metadata": {},
   "outputs": [],
   "source": []
  }
 ],
 "metadata": {
  "accelerator": "GPU",
  "colab": {
   "authorship_tag": "ABX9TyMAleSaBYAAgM4+rTN5xy7y",
   "collapsed_sections": [],
   "include_colab_link": true,
   "name": "SimSiam_Evaluation.ipynb",
   "provenance": []
  },
  "kernelspec": {
   "display_name": "Python 3",
   "language": "python",
   "name": "python3"
  },
  "language_info": {
   "codemirror_mode": {
    "name": "ipython",
    "version": 3
   },
   "file_extension": ".py",
   "mimetype": "text/x-python",
   "name": "python",
   "nbconvert_exporter": "python",
   "pygments_lexer": "ipython3",
   "version": "3.8.11"
  }
 },
 "nbformat": 4,
 "nbformat_minor": 1
}
