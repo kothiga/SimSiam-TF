{
 "cells": [
  {
   "cell_type": "markdown",
   "metadata": {
    "colab_type": "text",
    "id": "view-in-github"
   },
   "source": [
    "<a href=\"https://colab.research.google.com/github/sayakpaul/SimSiam-TF/blob/main/SimSiam_Evaluation.ipynb\" target=\"_parent\"><img src=\"https://colab.research.google.com/assets/colab-badge.svg\" alt=\"Open In Colab\"/></a>"
   ]
  },
  {
   "cell_type": "markdown",
   "metadata": {
    "id": "spvkjI26p5hP"
   },
   "source": [
    "This notebook evaluates the frozen features of a ResNet50 pre-trained (50 epochs of pre-training) using the [SimSiam method](https://arxiv.org/abs/2011.10566). You can refer to the [pre-training notebook here](https://github.com/sayakpaul/SimSiam-TF/blob/main/SimSiam_Pre_training.ipynb). Following evaluation methods have been used - \n",
    "\n",
    "* Linear evaluation of the frozen features\n",
    "\n",
    "*Please note that to keep this minimal I did not follow the original hyperparameter configurations rigorously.*  "
   ]
  },
  {
   "cell_type": "markdown",
   "metadata": {
    "id": "bHxqoL8criDm"
   },
   "source": [
    "## Initial setup"
   ]
  },
  {
   "cell_type": "code",
   "execution_count": 1,
   "metadata": {
    "colab": {
     "base_uri": "https://localhost:8080/"
    },
    "id": "jjv_xR31qway",
    "outputId": "0540994e-cb2e-4e81-9b55-3c44c75bd382"
   },
   "outputs": [
    {
     "name": "stdout",
     "output_type": "stream",
     "text": [
      "Mon Dec  6 14:37:49 2021       \n",
      "+-----------------------------------------------------------------------------+\n",
      "| NVIDIA-SMI 460.91.03    Driver Version: 460.91.03    CUDA Version: 11.2     |\n",
      "|-------------------------------+----------------------+----------------------+\n",
      "| GPU  Name        Persistence-M| Bus-Id        Disp.A | Volatile Uncorr. ECC |\n",
      "| Fan  Temp  Perf  Pwr:Usage/Cap|         Memory-Usage | GPU-Util  Compute M. |\n",
      "|                               |                      |               MIG M. |\n",
      "|===============================+======================+======================|\n",
      "|   0  GeForce GTX 107...  Off  | 00000000:01:00.0  On |                  N/A |\n",
      "|  6%   54C    P5    18W / 180W |    381MiB /  8111MiB |     16%      Default |\n",
      "|                               |                      |                  N/A |\n",
      "+-------------------------------+----------------------+----------------------+\n",
      "                                                                               \n",
      "+-----------------------------------------------------------------------------+\n",
      "| Processes:                                                                  |\n",
      "|  GPU   GI   CI        PID   Type   Process name                  GPU Memory |\n",
      "|        ID   ID                                                   Usage      |\n",
      "|=============================================================================|\n",
      "|    0   N/A  N/A      1109      G   /usr/lib/xorg/Xorg                 59MiB |\n",
      "|    0   N/A  N/A      1657      G   /usr/lib/xorg/Xorg                146MiB |\n",
      "|    0   N/A  N/A      1785      G   /usr/bin/gnome-shell               80MiB |\n",
      "|    0   N/A  N/A      2903      G   ...AAAAAAAAA= --shared-files       59MiB |\n",
      "|    0   N/A  N/A      3024      G   /usr/bin/nvidia-settings            0MiB |\n",
      "|    0   N/A  N/A      3038      G   ...AAAAAAAAA= --shared-files       14MiB |\n",
      "+-----------------------------------------------------------------------------+\n"
     ]
    }
   ],
   "source": [
    "!nvidia-smi"
   ]
  },
  {
   "cell_type": "code",
   "execution_count": 2,
   "metadata": {
    "id": "gFTq1rLLpxm9"
   },
   "outputs": [
    {
     "name": "stdout",
     "output_type": "stream",
     "text": [
      "2.7.0\n"
     ]
    }
   ],
   "source": [
    "import tensorflow as tf\n",
    "print(tf.__version__)"
   ]
  },
  {
   "cell_type": "code",
   "execution_count": 3,
   "metadata": {
    "id": "eabbJmtEqxZx"
   },
   "outputs": [],
   "source": [
    "import tensorflow_datasets as tfds\n",
    "tfds.disable_progress_bar()\n",
    "\n",
    "import matplotlib.pyplot as plt\n",
    "import numpy as np\n",
    "import random\n",
    "import time\n",
    "import os\n",
    "\n",
    "tf.random.set_seed(666)\n",
    "np.random.seed(666)"
   ]
  },
  {
   "cell_type": "code",
   "execution_count": 4,
   "metadata": {
    "id": "fWxQyUYJrAoz"
   },
   "outputs": [],
   "source": [
    "# Retrieve the weights (50 epochs pre-training) of the projection head\n",
    "#!wget -q https://github.com/sayakpaul/SimSiam-TF/releases/download/v1.0.0/projection.h5"
   ]
  },
  {
   "cell_type": "markdown",
   "metadata": {
    "id": "9pVwjqIDrbNR"
   },
   "source": [
    "## Dataset collection & preparation\n",
    "\n",
    "The following code is referred from [here](https://github.com/ayulockin/SwAV-TF/blob/master/linear_evaluation/Linear_Evaluation_10_Epochs.ipynb). "
   ]
  },
  {
   "cell_type": "code",
   "execution_count": 5,
   "metadata": {
    "colab": {
     "base_uri": "https://localhost:8080/"
    },
    "id": "mqcYr9UMrNtt",
    "outputId": "c286bf12-4f9b-43ef-d957-436831406f66"
   },
   "outputs": [
    {
     "name": "stderr",
     "output_type": "stream",
     "text": [
      "2021-12-06 14:37:52.525135: I tensorflow/stream_executor/cuda/cuda_gpu_executor.cc:939] successful NUMA node read from SysFS had negative value (-1), but there must be at least one NUMA node, so returning NUMA node zero\n",
      "2021-12-06 14:37:52.569671: I tensorflow/stream_executor/cuda/cuda_gpu_executor.cc:939] successful NUMA node read from SysFS had negative value (-1), but there must be at least one NUMA node, so returning NUMA node zero\n",
      "2021-12-06 14:37:52.570152: I tensorflow/stream_executor/cuda/cuda_gpu_executor.cc:939] successful NUMA node read from SysFS had negative value (-1), but there must be at least one NUMA node, so returning NUMA node zero\n",
      "2021-12-06 14:37:52.571398: I tensorflow/core/platform/cpu_feature_guard.cc:151] This TensorFlow binary is optimized with oneAPI Deep Neural Network Library (oneDNN) to use the following CPU instructions in performance-critical operations:  AVX2 FMA\n",
      "To enable them in other operations, rebuild TensorFlow with the appropriate compiler flags.\n",
      "2021-12-06 14:37:52.572185: I tensorflow/stream_executor/cuda/cuda_gpu_executor.cc:939] successful NUMA node read from SysFS had negative value (-1), but there must be at least one NUMA node, so returning NUMA node zero\n",
      "2021-12-06 14:37:52.572518: I tensorflow/stream_executor/cuda/cuda_gpu_executor.cc:939] successful NUMA node read from SysFS had negative value (-1), but there must be at least one NUMA node, so returning NUMA node zero\n",
      "2021-12-06 14:37:52.574545: I tensorflow/stream_executor/cuda/cuda_gpu_executor.cc:939] successful NUMA node read from SysFS had negative value (-1), but there must be at least one NUMA node, so returning NUMA node zero\n",
      "2021-12-06 14:37:53.159723: I tensorflow/stream_executor/cuda/cuda_gpu_executor.cc:939] successful NUMA node read from SysFS had negative value (-1), but there must be at least one NUMA node, so returning NUMA node zero\n",
      "2021-12-06 14:37:53.160020: I tensorflow/stream_executor/cuda/cuda_gpu_executor.cc:939] successful NUMA node read from SysFS had negative value (-1), but there must be at least one NUMA node, so returning NUMA node zero\n",
      "2021-12-06 14:37:53.160275: I tensorflow/stream_executor/cuda/cuda_gpu_executor.cc:939] successful NUMA node read from SysFS had negative value (-1), but there must be at least one NUMA node, so returning NUMA node zero\n",
      "2021-12-06 14:37:53.160516: I tensorflow/core/common_runtime/gpu/gpu_device.cc:1525] Created device /job:localhost/replica:0/task:0/device:GPU:0 with 6907 MB memory:  -> device: 0, name: GeForce GTX 1070 Ti, pci bus id: 0000:01:00.0, compute capability: 6.1\n"
     ]
    }
   ],
   "source": [
    "# Gather Flowers dataset\n",
    "train_ds, validation_ds = tfds.load(\n",
    "    \"imagenet2012_subset/10pct\",\n",
    "    split=[\"train[:85%]\", \"train[85%:]\"],\n",
    "    as_supervised=True\n",
    ")\n",
    "\n",
    "AUTO = tf.data.experimental.AUTOTUNE\n",
    "BATCH_SIZE = 64\n",
    "\n",
    "@tf.function\n",
    "def scale_resize_image(image, label):\n",
    "    image = tf.image.convert_image_dtype(image, tf.float32)\n",
    "    image = tf.image.resize(image, (224, 224)) # Resizing to highest resolution used while training swav\n",
    "    return (image, label)\n",
    "\n",
    "training_ds = (\n",
    "    train_ds\n",
    "    .map(scale_resize_image, num_parallel_calls=AUTO)\n",
    "    .batch(BATCH_SIZE)\n",
    "    .prefetch(AUTO)\n",
    ")\n",
    "\n",
    "validation_ds = (\n",
    "    validation_ds\n",
    "    .map(scale_resize_image, num_parallel_calls=AUTO)\n",
    "    .batch(BATCH_SIZE)\n",
    "    .prefetch(AUTO)\n",
    ")"
   ]
  },
  {
   "cell_type": "markdown",
   "metadata": {
    "id": "kvAOIxtruK4S"
   },
   "source": [
    "## Utility functions"
   ]
  },
  {
   "cell_type": "code",
   "execution_count": 6,
   "metadata": {
    "id": "g91yjhLhrH41"
   },
   "outputs": [],
   "source": [
    "def get_encoder():\n",
    "    base_model = tf.keras.applications.ResNet50(include_top=False,\n",
    "        weights=None, input_shape=(224, 224, 3))\n",
    "    base_model.trainable = True\n",
    "\n",
    "    inputs = tf.keras.layers.Input((224, 224, 3))\n",
    "    x = base_model(inputs, training=True)\n",
    "    x = tf.keras.layers.GlobalAveragePooling2D()(x)\n",
    "    x = tf.keras.layers.Dense(2048, activation='relu', use_bias=False)(x)\n",
    "    x = tf.keras.layers.BatchNormalization()(x)\n",
    "    z = tf.keras.layers.Dense(2048)(x)\n",
    "\n",
    "    f = tf.keras.Model(inputs, z)\n",
    "\n",
    "    return f"
   ]
  },
  {
   "cell_type": "code",
   "execution_count": 7,
   "metadata": {
    "colab": {
     "base_uri": "https://localhost:8080/"
    },
    "id": "hFTZNOpIsSLm",
    "outputId": "e0199d8d-502c-4b22-b155-8dfc3d9a65c1"
   },
   "outputs": [
    {
     "name": "stdout",
     "output_type": "stream",
     "text": [
      "Model: \"model\"\n",
      "_________________________________________________________________\n",
      " Layer (type)                Output Shape              Param #   \n",
      "=================================================================\n",
      " input_2 (InputLayer)        [(None, 224, 224, 3)]     0         \n",
      "                                                                 \n",
      " resnet50 (Functional)       (None, 7, 7, 2048)        23587712  \n",
      "                                                                 \n",
      " global_average_pooling2d (G  (None, 2048)             0         \n",
      " lobalAveragePooling2D)                                          \n",
      "                                                                 \n",
      " dense (Dense)               (None, 2048)              4194304   \n",
      "                                                                 \n",
      " batch_normalization (BatchN  (None, 2048)             8192      \n",
      " ormalization)                                                   \n",
      "                                                                 \n",
      " dense_1 (Dense)             (None, 2048)              4196352   \n",
      "                                                                 \n",
      "=================================================================\n",
      "Total params: 31,986,560\n",
      "Trainable params: 31,929,344\n",
      "Non-trainable params: 57,216\n",
      "_________________________________________________________________\n"
     ]
    }
   ],
   "source": [
    "get_encoder().summary()"
   ]
  },
  {
   "cell_type": "code",
   "execution_count": 8,
   "metadata": {
    "colab": {
     "base_uri": "https://localhost:8080/"
    },
    "id": "KhGhjwwzr5yi",
    "outputId": "ff44cd06-e17f-411a-a43f-fcba43f8f32f"
   },
   "outputs": [
    {
     "name": "stdout",
     "output_type": "stream",
     "text": [
      "Model: \"model_2\"\n",
      "_________________________________________________________________\n",
      " Layer (type)                Output Shape              Param #   \n",
      "=================================================================\n",
      " input_4 (InputLayer)        [(None, 224, 224, 3)]     0         \n",
      "                                                                 \n",
      " resnet50 (Functional)       (None, 7, 7, 2048)        23587712  \n",
      "                                                                 \n",
      " global_average_pooling2d_1   (None, 2048)             0         \n",
      " (GlobalAveragePooling2D)                                        \n",
      "                                                                 \n",
      "=================================================================\n",
      "Total params: 23,587,712\n",
      "Trainable params: 23,534,592\n",
      "Non-trainable params: 53,120\n",
      "_________________________________________________________________\n"
     ]
    }
   ],
   "source": [
    "# We now load up the pre-trained weights\n",
    "projection = get_encoder()\n",
    "projection.load_weights('projection_024.h5')\n",
    "\n",
    "# Create a sub-model for extracting features\n",
    "rn50 = tf.keras.Model(projection.input, projection.layers[2].output)\n",
    "rn50.summary()"
   ]
  },
  {
   "cell_type": "code",
   "execution_count": 9,
   "metadata": {
    "id": "fbSkm4NPsecS"
   },
   "outputs": [],
   "source": [
    "def get_linear_classifier(feature_backbone, trainable=False):\n",
    "    inputs = tf.keras.layers.Input(shape=(224, 224, 3))\n",
    "    \n",
    "    feature_backbone.trainable = trainable\n",
    "    x = feature_backbone(inputs, training=False)\n",
    "    outputs = tf.keras.layers.Dense(1000, activation=\"softmax\", )(x)\n",
    "    linear_model = tf.keras.Model(inputs, outputs)\n",
    "\n",
    "    return linear_model"
   ]
  },
  {
   "cell_type": "code",
   "execution_count": 10,
   "metadata": {
    "colab": {
     "base_uri": "https://localhost:8080/"
    },
    "id": "DP-lW-7ms7Lj",
    "outputId": "34b76e31-6f6f-48af-ff03-3e15963d51fa"
   },
   "outputs": [
    {
     "name": "stdout",
     "output_type": "stream",
     "text": [
      "Model: \"model_3\"\n",
      "_________________________________________________________________\n",
      " Layer (type)                Output Shape              Param #   \n",
      "=================================================================\n",
      " input_5 (InputLayer)        [(None, 224, 224, 3)]     0         \n",
      "                                                                 \n",
      " model_2 (Functional)        (None, 2048)              23587712  \n",
      "                                                                 \n",
      " dense_4 (Dense)             (None, 1000)              2049000   \n",
      "                                                                 \n",
      "=================================================================\n",
      "Total params: 25,636,712\n",
      "Trainable params: 2,049,000\n",
      "Non-trainable params: 23,587,712\n",
      "_________________________________________________________________\n"
     ]
    }
   ],
   "source": [
    "get_linear_classifier(rn50).summary()"
   ]
  },
  {
   "cell_type": "code",
   "execution_count": 11,
   "metadata": {
    "id": "drzXtvV2tdjW"
   },
   "outputs": [],
   "source": [
    "def plot_progress(hist):\n",
    "    plt.plot(hist.history[\"loss\"], label=\"train_loss\")\n",
    "    plt.plot(hist.history[\"val_loss\"], label=\"validation_loss\")\n",
    "    plt.plot(hist.history[\"accuracy\"], label=\"training_accuracy\")\n",
    "    plt.plot(hist.history[\"val_accuracy\"], label=\"validation_accuracy\")\n",
    "    plt.title(\"Training Progress\")\n",
    "    plt.ylabel(\"accuracy/loss\")\n",
    "    plt.xlabel(\"epoch\")\n",
    "    plt.legend(loc=\"upper left\")\n",
    "    plt.grid()\n",
    "    plt.show()"
   ]
  },
  {
   "cell_type": "markdown",
   "metadata": {
    "id": "TNAn38zSuSUV"
   },
   "source": [
    "## Linear evaluation"
   ]
  },
  {
   "cell_type": "code",
   "execution_count": 12,
   "metadata": {
    "id": "lBw85iBGs-Cm"
   },
   "outputs": [],
   "source": [
    "# Early Stopping to prevent overfitting\n",
    "early_stopper = tf.keras.callbacks.EarlyStopping(monitor=\"val_loss\", \n",
    "                                                 patience=5, verbose=2, \n",
    "                                                 restore_best_weights=True)"
   ]
  },
  {
   "cell_type": "code",
   "execution_count": 13,
   "metadata": {
    "colab": {
     "base_uri": "https://localhost:8080/",
     "height": 1000
    },
    "id": "BxH5ImyItN59",
    "outputId": "87b90427-fe76-472c-ac3a-f6778f7758ec"
   },
   "outputs": [
    {
     "name": "stdout",
     "output_type": "stream",
     "text": [
      "Epoch 1/100\n"
     ]
    },
    {
     "name": "stderr",
     "output_type": "stream",
     "text": [
      "2021-12-06 14:37:58.824703: I tensorflow/stream_executor/cuda/cuda_dnn.cc:366] Loaded cuDNN version 8301\n",
      "2021-12-06 14:37:59.410750: I tensorflow/core/platform/default/subprocess.cc:304] Start cannot spawn child process: No such file or directory\n",
      "2021-12-06 14:37:59.411365: I tensorflow/core/platform/default/subprocess.cc:304] Start cannot spawn child process: No such file or directory\n",
      "2021-12-06 14:37:59.411382: W tensorflow/stream_executor/gpu/asm_compiler.cc:80] Couldn't get ptxas version string: INTERNAL: Couldn't invoke ptxas --version\n",
      "2021-12-06 14:37:59.412012: I tensorflow/core/platform/default/subprocess.cc:304] Start cannot spawn child process: No such file or directory\n",
      "2021-12-06 14:37:59.412077: W tensorflow/stream_executor/gpu/redzone_allocator.cc:314] INTERNAL: Failed to launch ptxas\n",
      "Relying on driver to perform ptx compilation. \n",
      "Modify $PATH to customize ptxas location.\n",
      "This message will be only logged once.\n"
     ]
    },
    {
     "name": "stdout",
     "output_type": "stream",
     "text": [
      "1702/1702 [==============================] - 346s 201ms/step - loss: 9.8023 - accuracy: 0.0017 - val_loss: 9.8757 - val_accuracy: 0.0017\n",
      "Epoch 2/100\n",
      "1702/1702 [==============================] - 358s 210ms/step - loss: 9.4516 - accuracy: 0.0032 - val_loss: 10.0940 - val_accuracy: 0.0019\n",
      "Epoch 3/100\n",
      "1702/1702 [==============================] - 357s 210ms/step - loss: 9.2465 - accuracy: 0.0052 - val_loss: 9.9284 - val_accuracy: 0.0027\n",
      "Epoch 4/100\n",
      "1702/1702 [==============================] - 319s 187ms/step - loss: 9.0470 - accuracy: 0.0074 - val_loss: 10.0196 - val_accuracy: 0.0031\n",
      "Epoch 5/100\n",
      "1702/1702 [==============================] - 309s 181ms/step - loss: 8.8875 - accuracy: 0.0096 - val_loss: 10.0741 - val_accuracy: 0.0031\n",
      "Epoch 6/100\n",
      "1702/1702 [==============================] - ETA: 0s - loss: 8.7231 - accuracy: 0.0123Restoring model weights from the end of the best epoch: 1.\n",
      "1702/1702 [==============================] - 309s 181ms/step - loss: 8.7231 - accuracy: 0.0123 - val_loss: 9.9086 - val_accuracy: 0.0042\n",
      "Epoch 00006: early stopping\n"
     ]
    },
    {
     "data": {
      "image/png": "[encoded data removed]",
      "text/plain": [
       "<Figure size 432x288 with 1 Axes>"
      ]
     },
     "metadata": {
      "needs_background": "light"
     },
     "output_type": "display_data"
    }
   ],
   "source": [
    "# Get linear model and compile\n",
    "tf.keras.backend.clear_session()\n",
    "model = get_linear_classifier(rn50)\n",
    "model.compile(loss=\"sparse_categorical_crossentropy\", metrics=[\"accuracy\"],\n",
    "                     optimizer=\"adam\")\n",
    "\n",
    "# Train \n",
    "history = model.fit(training_ds,\n",
    "                 validation_data=validation_ds,\n",
    "                 epochs=100,\n",
    "                 callbacks=[early_stopper])\n",
    "plot_progress(history)"
   ]
  },
  {
   "cell_type": "code",
   "execution_count": 14,
   "metadata": {
    "colab": {
     "base_uri": "https://localhost:8080/"
    },
    "id": "NctQf484t4GR",
    "outputId": "d1449782-c614-41ff-b5a5-6448978db53f"
   },
   "outputs": [
    {
     "name": "stdout",
     "output_type": "stream",
     "text": [
      "301/301 [==============================] - 47s 155ms/step - loss: 9.8757 - accuracy: 0.0017\n",
      "Validation accuracy: 0.17\n"
     ]
    }
   ],
   "source": [
    "_, acc = model.evaluate(validation_ds)\n",
    "print('Validation accuracy:', round(acc*100, 2))"
   ]
  },
  {
   "cell_type": "markdown",
   "metadata": {
    "id": "ykzPyP-uyJRu"
   },
   "source": [
    "For a minimal implementation the scores aren't that bad. "
   ]
  },
  {
   "cell_type": "code",
   "execution_count": 30,
   "metadata": {},
   "outputs": [
    {
     "data": {
      "image/png": "[encoded data removed]",
      "text/plain": [
       "<Figure size 720x432 with 1 Axes>"
      ]
     },
     "metadata": {
      "needs_background": "light"
     },
     "output_type": "display_data"
    },
    {
     "data": {
      "image/png": "[encoded data removed]",
      "text/plain": [
       "<Figure size 720x432 with 1 Axes>"
      ]
     },
     "metadata": {
      "needs_background": "light"
     },
     "output_type": "display_data"
    }
   ],
   "source": [
    "def plot_progress_acc(hist):\n",
    "    fig, axs = plt.subplots(1,1, figsize=(10,6))\n",
    "    plt.plot(hist.history[\"accuracy\"], label=\"training_accuracy\")\n",
    "    plt.plot(hist.history[\"val_accuracy\"], label=\"validation_accuracy\")\n",
    "    plt.title(\"Training Progress -- Accuracy\", size=20)\n",
    "    plt.ylabel(\"accuracy\", size=20); plt.yticks(size=15)\n",
    "    plt.xlabel(\"epoch\", size=20); plt.xticks(size=15)\n",
    "    plt.legend(loc=\"upper left\")\n",
    "    plt.grid()\n",
    "    plt.show()\n",
    "\n",
    "def plot_progress_loss(hist):\n",
    "    fig, axs = plt.subplots(1,1, figsize=(10,6))\n",
    "    plt.plot(hist.history[\"loss\"], label=\"train_loss\")\n",
    "    plt.plot(hist.history[\"val_loss\"], label=\"validation_loss\")\n",
    "    plt.title(\"Training Progress -- Loss\", size=20)\n",
    "    plt.ylabel(\"loss\", size=20); plt.yticks(size=15)\n",
    "    plt.xlabel(\"epoch\", size=20); plt.xticks(size=15)\n",
    "    plt.legend(loc=\"lower left\")\n",
    "    plt.grid()\n",
    "    plt.show()\n",
    "\n",
    "plot_progress_acc(history)\n",
    "plot_progress_loss(history)"
   ]
  },
  {
   "cell_type": "code",
   "execution_count": null,
   "metadata": {},
   "outputs": [],
   "source": []
  }
 ],
 "metadata": {
  "accelerator": "GPU",
  "colab": {
   "authorship_tag": "ABX9TyMAleSaBYAAgM4+rTN5xy7y",
   "collapsed_sections": [],
   "include_colab_link": true,
   "name": "SimSiam_Evaluation.ipynb",
   "provenance": []
  },
  "kernelspec": {
   "display_name": "Python 3",
   "language": "python",
   "name": "python3"
  },
  "language_info": {
   "codemirror_mode": {
    "name": "ipython",
    "version": 3
   },
   "file_extension": ".py",
   "mimetype": "text/x-python",
   "name": "python",
   "nbconvert_exporter": "python",
   "pygments_lexer": "ipython3",
   "version": "3.8.11"
  }
 },
 "nbformat": 4,
 "nbformat_minor": 1
}
