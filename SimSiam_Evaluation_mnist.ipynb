{
 "cells": [
  {
   "cell_type": "markdown",
   "metadata": {
    "colab_type": "text",
    "id": "view-in-github"
   },
   "source": [
    "<a href=\"https://colab.research.google.com/github/sayakpaul/SimSiam-TF/blob/main/SimSiam_Evaluation.ipynb\" target=\"_parent\"><img src=\"https://colab.research.google.com/assets/colab-badge.svg\" alt=\"Open In Colab\"/></a>"
   ]
  },
  {
   "cell_type": "markdown",
   "metadata": {
    "id": "spvkjI26p5hP"
   },
   "source": [
    "This notebook evaluates the frozen features of a ResNet50 pre-trained (50 epochs of pre-training) using the [SimSiam method](https://arxiv.org/abs/2011.10566). You can refer to the [pre-training notebook here](https://github.com/sayakpaul/SimSiam-TF/blob/main/SimSiam_Pre_training.ipynb). Following evaluation methods have been used - \n",
    "\n",
    "* Linear evaluation of the frozen features\n",
    "\n",
    "*Please note that to keep this minimal I did not follow the original hyperparameter configurations rigorously.*  "
   ]
  },
  {
   "cell_type": "markdown",
   "metadata": {
    "id": "bHxqoL8criDm"
   },
   "source": [
    "## Initial setup"
   ]
  },
  {
   "cell_type": "code",
   "execution_count": 1,
   "metadata": {
    "colab": {
     "base_uri": "https://localhost:8080/"
    },
    "id": "jjv_xR31qway",
    "outputId": "0540994e-cb2e-4e81-9b55-3c44c75bd382"
   },
   "outputs": [
    {
     "name": "stdout",
     "output_type": "stream",
     "text": [
      "Wed Dec  8 15:53:03 2021       \n",
      "+-----------------------------------------------------------------------------+\n",
      "| NVIDIA-SMI 460.91.03    Driver Version: 460.91.03    CUDA Version: 11.2     |\n",
      "|-------------------------------+----------------------+----------------------+\n",
      "| GPU  Name        Persistence-M| Bus-Id        Disp.A | Volatile Uncorr. ECC |\n",
      "| Fan  Temp  Perf  Pwr:Usage/Cap|         Memory-Usage | GPU-Util  Compute M. |\n",
      "|                               |                      |               MIG M. |\n",
      "|===============================+======================+======================|\n",
      "|   0  GeForce GTX 107...  Off  | 00000000:01:00.0  On |                  N/A |\n",
      "| 39%   56C    P0    52W / 180W |    370MiB /  8111MiB |      7%      Default |\n",
      "|                               |                      |                  N/A |\n",
      "+-------------------------------+----------------------+----------------------+\n",
      "                                                                               \n",
      "+-----------------------------------------------------------------------------+\n",
      "| Processes:                                                                  |\n",
      "|  GPU   GI   CI        PID   Type   Process name                  GPU Memory |\n",
      "|        ID   ID                                                   Usage      |\n",
      "|=============================================================================|\n",
      "|    0   N/A  N/A      1079      G   /usr/lib/xorg/Xorg                 59MiB |\n",
      "|    0   N/A  N/A      1892      G   /usr/lib/xorg/Xorg                130MiB |\n",
      "|    0   N/A  N/A      2028      G   /usr/bin/gnome-shell               73MiB |\n",
      "|    0   N/A  N/A      4185      G   ...AAAAAAAAA= --shared-files       13MiB |\n",
      "|    0   N/A  N/A      4667      G   ...AAAAAAAAA= --shared-files       72MiB |\n",
      "|    0   N/A  N/A      6573      G   /usr/bin/nvidia-settings            0MiB |\n",
      "+-----------------------------------------------------------------------------+\n"
     ]
    }
   ],
   "source": [
    "!nvidia-smi"
   ]
  },
  {
   "cell_type": "code",
   "execution_count": 2,
   "metadata": {
    "id": "gFTq1rLLpxm9"
   },
   "outputs": [
    {
     "name": "stdout",
     "output_type": "stream",
     "text": [
      "2.7.0\n"
     ]
    }
   ],
   "source": [
    "import tensorflow as tf\n",
    "print(tf.__version__)"
   ]
  },
  {
   "cell_type": "code",
   "execution_count": 3,
   "metadata": {
    "id": "eabbJmtEqxZx"
   },
   "outputs": [],
   "source": [
    "import tensorflow_datasets as tfds\n",
    "tfds.disable_progress_bar()\n",
    "\n",
    "import matplotlib.pyplot as plt\n",
    "import numpy as np\n",
    "import random\n",
    "import time\n",
    "import os\n",
    "\n",
    "tf.random.set_seed(666)\n",
    "np.random.seed(666)"
   ]
  },
  {
   "cell_type": "code",
   "execution_count": 4,
   "metadata": {
    "id": "fWxQyUYJrAoz"
   },
   "outputs": [],
   "source": [
    "# Retrieve the weights (50 epochs pre-training) of the projection head\n",
    "#!wget -q https://github.com/sayakpaul/SimSiam-TF/releases/download/v1.0.0/projection.h5"
   ]
  },
  {
   "cell_type": "markdown",
   "metadata": {
    "id": "9pVwjqIDrbNR"
   },
   "source": [
    "## Dataset collection & preparation\n",
    "\n",
    "The following code is referred from [here](https://github.com/ayulockin/SwAV-TF/blob/master/linear_evaluation/Linear_Evaluation_10_Epochs.ipynb). "
   ]
  },
  {
   "cell_type": "code",
   "execution_count": 5,
   "metadata": {
    "colab": {
     "base_uri": "https://localhost:8080/"
    },
    "id": "mqcYr9UMrNtt",
    "outputId": "c286bf12-4f9b-43ef-d957-436831406f66"
   },
   "outputs": [
    {
     "name": "stderr",
     "output_type": "stream",
     "text": [
      "2021-12-08 15:53:04.945304: I tensorflow/stream_executor/cuda/cuda_gpu_executor.cc:939] successful NUMA node read from SysFS had negative value (-1), but there must be at least one NUMA node, so returning NUMA node zero\n",
      "2021-12-08 15:53:04.955908: I tensorflow/stream_executor/cuda/cuda_gpu_executor.cc:939] successful NUMA node read from SysFS had negative value (-1), but there must be at least one NUMA node, so returning NUMA node zero\n",
      "2021-12-08 15:53:04.956352: I tensorflow/stream_executor/cuda/cuda_gpu_executor.cc:939] successful NUMA node read from SysFS had negative value (-1), but there must be at least one NUMA node, so returning NUMA node zero\n",
      "2021-12-08 15:53:04.957120: I tensorflow/core/platform/cpu_feature_guard.cc:151] This TensorFlow binary is optimized with oneAPI Deep Neural Network Library (oneDNN) to use the following CPU instructions in performance-critical operations:  AVX2 FMA\n",
      "To enable them in other operations, rebuild TensorFlow with the appropriate compiler flags.\n",
      "2021-12-08 15:53:04.957485: I tensorflow/stream_executor/cuda/cuda_gpu_executor.cc:939] successful NUMA node read from SysFS had negative value (-1), but there must be at least one NUMA node, so returning NUMA node zero\n",
      "2021-12-08 15:53:04.957902: I tensorflow/stream_executor/cuda/cuda_gpu_executor.cc:939] successful NUMA node read from SysFS had negative value (-1), but there must be at least one NUMA node, so returning NUMA node zero\n",
      "2021-12-08 15:53:04.958245: I tensorflow/stream_executor/cuda/cuda_gpu_executor.cc:939] successful NUMA node read from SysFS had negative value (-1), but there must be at least one NUMA node, so returning NUMA node zero\n",
      "2021-12-08 15:53:05.314014: I tensorflow/stream_executor/cuda/cuda_gpu_executor.cc:939] successful NUMA node read from SysFS had negative value (-1), but there must be at least one NUMA node, so returning NUMA node zero\n",
      "2021-12-08 15:53:05.314310: I tensorflow/stream_executor/cuda/cuda_gpu_executor.cc:939] successful NUMA node read from SysFS had negative value (-1), but there must be at least one NUMA node, so returning NUMA node zero\n",
      "2021-12-08 15:53:05.314568: I tensorflow/stream_executor/cuda/cuda_gpu_executor.cc:939] successful NUMA node read from SysFS had negative value (-1), but there must be at least one NUMA node, so returning NUMA node zero\n",
      "2021-12-08 15:53:05.314810: I tensorflow/core/common_runtime/gpu/gpu_device.cc:1525] Created device /job:localhost/replica:0/task:0/device:GPU:0 with 7022 MB memory:  -> device: 0, name: GeForce GTX 1070 Ti, pci bus id: 0000:01:00.0, compute capability: 6.1\n"
     ]
    }
   ],
   "source": [
    "# Gather Flowers dataset\n",
    "train_ds, validation_ds = tfds.load(\n",
    "    \"mnist\",\n",
    "    split=['train', 'test'],\n",
    "    as_supervised=True\n",
    ")\n",
    "\n",
    "AUTO = tf.data.experimental.AUTOTUNE\n",
    "BATCH_SIZE = 64\n",
    "\n",
    "@tf.function\n",
    "def scale_resize_image(image, label):\n",
    "    image = tf.image.convert_image_dtype(image, tf.float32)\n",
    "    image = tf.image.resize(image, (224, 224)) # Resizing to highest resolution used while training swav\n",
    "    image = tf.image.grayscale_to_rgb(image)\n",
    "    return (image, label)\n",
    "\n",
    "training_ds = (\n",
    "    train_ds\n",
    "    .map(scale_resize_image, num_parallel_calls=AUTO)\n",
    "    .batch(BATCH_SIZE)\n",
    "    .prefetch(AUTO)\n",
    ")\n",
    "\n",
    "validation_ds = (\n",
    "    validation_ds\n",
    "    .map(scale_resize_image, num_parallel_calls=AUTO)\n",
    "    .batch(BATCH_SIZE)\n",
    "    .prefetch(AUTO)\n",
    ")"
   ]
  },
  {
   "cell_type": "markdown",
   "metadata": {
    "id": "kvAOIxtruK4S"
   },
   "source": [
    "## Utility functions"
   ]
  },
  {
   "cell_type": "code",
   "execution_count": 6,
   "metadata": {
    "id": "g91yjhLhrH41"
   },
   "outputs": [],
   "source": [
    "def get_encoder():\n",
    "    base_model = tf.keras.applications.ResNet50(include_top=False,\n",
    "        weights=None, input_shape=(224, 224, 3))\n",
    "    base_model.trainable = True\n",
    "\n",
    "    inputs = tf.keras.layers.Input((224, 224, 3))\n",
    "    x = base_model(inputs, training=True)\n",
    "    x = tf.keras.layers.GlobalAveragePooling2D()(x)\n",
    "    x = tf.keras.layers.Dense(2048, activation='relu', use_bias=False)(x)\n",
    "    x = tf.keras.layers.BatchNormalization()(x)\n",
    "    z = tf.keras.layers.Dense(2048)(x)\n",
    "\n",
    "    f = tf.keras.Model(inputs, z)\n",
    "\n",
    "    return f"
   ]
  },
  {
   "cell_type": "code",
   "execution_count": 7,
   "metadata": {
    "colab": {
     "base_uri": "https://localhost:8080/"
    },
    "id": "hFTZNOpIsSLm",
    "outputId": "e0199d8d-502c-4b22-b155-8dfc3d9a65c1"
   },
   "outputs": [
    {
     "name": "stdout",
     "output_type": "stream",
     "text": [
      "Model: \"model\"\n",
      "_________________________________________________________________\n",
      " Layer (type)                Output Shape              Param #   \n",
      "=================================================================\n",
      " input_2 (InputLayer)        [(None, 224, 224, 3)]     0         \n",
      "                                                                 \n",
      " resnet50 (Functional)       (None, 7, 7, 2048)        23587712  \n",
      "                                                                 \n",
      " global_average_pooling2d (G  (None, 2048)             0         \n",
      " lobalAveragePooling2D)                                          \n",
      "                                                                 \n",
      " dense (Dense)               (None, 2048)              4194304   \n",
      "                                                                 \n",
      " batch_normalization (BatchN  (None, 2048)             8192      \n",
      " ormalization)                                                   \n",
      "                                                                 \n",
      " dense_1 (Dense)             (None, 2048)              4196352   \n",
      "                                                                 \n",
      "=================================================================\n",
      "Total params: 31,986,560\n",
      "Trainable params: 31,929,344\n",
      "Non-trainable params: 57,216\n",
      "_________________________________________________________________\n"
     ]
    }
   ],
   "source": [
    "get_encoder().summary()"
   ]
  },
  {
   "cell_type": "code",
   "execution_count": 8,
   "metadata": {
    "colab": {
     "base_uri": "https://localhost:8080/"
    },
    "id": "KhGhjwwzr5yi",
    "outputId": "ff44cd06-e17f-411a-a43f-fcba43f8f32f"
   },
   "outputs": [
    {
     "name": "stdout",
     "output_type": "stream",
     "text": [
      "Model: \"model_2\"\n",
      "_________________________________________________________________\n",
      " Layer (type)                Output Shape              Param #   \n",
      "=================================================================\n",
      " input_4 (InputLayer)        [(None, 224, 224, 3)]     0         \n",
      "                                                                 \n",
      " resnet50 (Functional)       (None, 7, 7, 2048)        23587712  \n",
      "                                                                 \n",
      " global_average_pooling2d_1   (None, 2048)             0         \n",
      " (GlobalAveragePooling2D)                                        \n",
      "                                                                 \n",
      "=================================================================\n",
      "Total params: 23,587,712\n",
      "Trainable params: 23,534,592\n",
      "Non-trainable params: 53,120\n",
      "_________________________________________________________________\n"
     ]
    }
   ],
   "source": [
    "# We now load up the pre-trained weights\n",
    "projection = get_encoder()\n",
    "projection.load_weights('projection.h5')\n",
    "\n",
    "# Create a sub-model for extracting features\n",
    "rn50 = tf.keras.Model(projection.input, projection.layers[2].output)\n",
    "rn50.summary()"
   ]
  },
  {
   "cell_type": "code",
   "execution_count": 9,
   "metadata": {
    "id": "fbSkm4NPsecS"
   },
   "outputs": [],
   "source": [
    "def get_linear_classifier(feature_backbone, trainable=False):\n",
    "    inputs = tf.keras.layers.Input(shape=(224, 224, 3))\n",
    "    \n",
    "    feature_backbone.trainable = trainable\n",
    "    x = feature_backbone(inputs, training=False)\n",
    "    outputs = tf.keras.layers.Dense(10, activation=\"softmax\", )(x)\n",
    "    linear_model = tf.keras.Model(inputs, outputs)\n",
    "\n",
    "    return linear_model"
   ]
  },
  {
   "cell_type": "code",
   "execution_count": 10,
   "metadata": {
    "colab": {
     "base_uri": "https://localhost:8080/"
    },
    "id": "DP-lW-7ms7Lj",
    "outputId": "34b76e31-6f6f-48af-ff03-3e15963d51fa"
   },
   "outputs": [
    {
     "name": "stdout",
     "output_type": "stream",
     "text": [
      "Model: \"model_3\"\n",
      "_________________________________________________________________\n",
      " Layer (type)                Output Shape              Param #   \n",
      "=================================================================\n",
      " input_5 (InputLayer)        [(None, 224, 224, 3)]     0         \n",
      "                                                                 \n",
      " model_2 (Functional)        (None, 2048)              23587712  \n",
      "                                                                 \n",
      " dense_4 (Dense)             (None, 10)                20490     \n",
      "                                                                 \n",
      "=================================================================\n",
      "Total params: 23,608,202\n",
      "Trainable params: 20,490\n",
      "Non-trainable params: 23,587,712\n",
      "_________________________________________________________________\n"
     ]
    }
   ],
   "source": [
    "get_linear_classifier(rn50).summary()"
   ]
  },
  {
   "cell_type": "code",
   "execution_count": 11,
   "metadata": {
    "id": "drzXtvV2tdjW"
   },
   "outputs": [],
   "source": [
    "def plot_progress(hist):\n",
    "    plt.plot(hist.history[\"loss\"], label=\"train_loss\")\n",
    "    plt.plot(hist.history[\"val_loss\"], label=\"validation_loss\")\n",
    "    plt.plot(hist.history[\"accuracy\"], label=\"training_accuracy\")\n",
    "    plt.plot(hist.history[\"val_accuracy\"], label=\"validation_accuracy\")\n",
    "    plt.title(\"Training Progress\")\n",
    "    plt.ylabel(\"accuracy/loss\")\n",
    "    plt.xlabel(\"epoch\")\n",
    "    plt.legend(loc=\"upper left\")\n",
    "    plt.grid()\n",
    "    plt.show()"
   ]
  },
  {
   "cell_type": "markdown",
   "metadata": {
    "id": "TNAn38zSuSUV"
   },
   "source": [
    "## Linear evaluation"
   ]
  },
  {
   "cell_type": "code",
   "execution_count": 12,
   "metadata": {
    "id": "lBw85iBGs-Cm"
   },
   "outputs": [],
   "source": [
    "# Early Stopping to prevent overfitting\n",
    "early_stopper = tf.keras.callbacks.EarlyStopping(monitor=\"val_loss\", \n",
    "                                                 patience=5, verbose=2, \n",
    "                                                 restore_best_weights=True)"
   ]
  },
  {
   "cell_type": "code",
   "execution_count": 13,
   "metadata": {
    "colab": {
     "base_uri": "https://localhost:8080/",
     "height": 1000
    },
    "id": "BxH5ImyItN59",
    "outputId": "87b90427-fe76-472c-ac3a-f6778f7758ec"
   },
   "outputs": [
    {
     "name": "stdout",
     "output_type": "stream",
     "text": [
      "Epoch 1/50\n"
     ]
    },
    {
     "name": "stderr",
     "output_type": "stream",
     "text": [
      "2021-12-08 15:53:10.176454: I tensorflow/stream_executor/cuda/cuda_dnn.cc:366] Loaded cuDNN version 8301\n",
      "2021-12-08 15:53:10.491906: I tensorflow/core/platform/default/subprocess.cc:304] Start cannot spawn child process: No such file or directory\n",
      "2021-12-08 15:53:10.492530: I tensorflow/core/platform/default/subprocess.cc:304] Start cannot spawn child process: No such file or directory\n",
      "2021-12-08 15:53:10.492548: W tensorflow/stream_executor/gpu/asm_compiler.cc:80] Couldn't get ptxas version string: INTERNAL: Couldn't invoke ptxas --version\n",
      "2021-12-08 15:53:10.493119: I tensorflow/core/platform/default/subprocess.cc:304] Start cannot spawn child process: No such file or directory\n",
      "2021-12-08 15:53:10.493163: W tensorflow/stream_executor/gpu/redzone_allocator.cc:314] INTERNAL: Failed to launch ptxas\n",
      "Relying on driver to perform ptx compilation. \n",
      "Modify $PATH to customize ptxas location.\n",
      "This message will be only logged once.\n"
     ]
    },
    {
     "name": "stdout",
     "output_type": "stream",
     "text": [
      "938/938 [==============================] - 213s 224ms/step - loss: 1.8540 - accuracy: 0.3376 - val_loss: 1.5784 - val_accuracy: 0.4672\n",
      "Epoch 2/50\n",
      "938/938 [==============================] - 210s 224ms/step - loss: 1.5157 - accuracy: 0.4851 - val_loss: 1.3563 - val_accuracy: 0.5581\n",
      "Epoch 3/50\n",
      "938/938 [==============================] - 204s 217ms/step - loss: 1.3460 - accuracy: 0.5536 - val_loss: 1.2297 - val_accuracy: 0.6013\n",
      "Epoch 4/50\n",
      "938/938 [==============================] - 207s 220ms/step - loss: 1.2391 - accuracy: 0.5903 - val_loss: 1.1474 - val_accuracy: 0.6286\n",
      "Epoch 5/50\n",
      "938/938 [==============================] - 205s 219ms/step - loss: 1.1644 - accuracy: 0.6152 - val_loss: 1.0895 - val_accuracy: 0.6457\n",
      "Epoch 6/50\n",
      "938/938 [==============================] - 207s 221ms/step - loss: 1.1086 - accuracy: 0.6340 - val_loss: 1.0465 - val_accuracy: 0.6601\n",
      "Epoch 7/50\n",
      "938/938 [==============================] - 210s 224ms/step - loss: 1.0645 - accuracy: 0.6486 - val_loss: 1.0130 - val_accuracy: 0.6697\n",
      "Epoch 8/50\n",
      "938/938 [==============================] - 197s 210ms/step - loss: 1.0286 - accuracy: 0.6607 - val_loss: 0.9858 - val_accuracy: 0.6770\n",
      "Epoch 9/50\n",
      "938/938 [==============================] - 198s 211ms/step - loss: 0.9984 - accuracy: 0.6705 - val_loss: 0.9631 - val_accuracy: 0.6865\n",
      "Epoch 10/50\n",
      "938/938 [==============================] - 197s 210ms/step - loss: 0.9726 - accuracy: 0.6792 - val_loss: 0.9437 - val_accuracy: 0.6933\n",
      "Epoch 11/50\n",
      "938/938 [==============================] - 197s 210ms/step - loss: 0.9502 - accuracy: 0.6870 - val_loss: 0.9268 - val_accuracy: 0.6988\n",
      "Epoch 12/50\n",
      "938/938 [==============================] - 197s 210ms/step - loss: 0.9304 - accuracy: 0.6941 - val_loss: 0.9119 - val_accuracy: 0.7036\n",
      "Epoch 13/50\n",
      "938/938 [==============================] - 197s 210ms/step - loss: 0.9127 - accuracy: 0.6991 - val_loss: 0.8987 - val_accuracy: 0.7077\n",
      "Epoch 14/50\n",
      "938/938 [==============================] - 197s 210ms/step - loss: 0.8969 - accuracy: 0.7036 - val_loss: 0.8870 - val_accuracy: 0.7102\n",
      "Epoch 15/50\n",
      "938/938 [==============================] - 198s 211ms/step - loss: 0.8825 - accuracy: 0.7079 - val_loss: 0.8765 - val_accuracy: 0.7138\n",
      "Epoch 16/50\n",
      "938/938 [==============================] - 197s 210ms/step - loss: 0.8694 - accuracy: 0.7120 - val_loss: 0.8670 - val_accuracy: 0.7173\n",
      "Epoch 17/50\n",
      "938/938 [==============================] - 178s 190ms/step - loss: 0.8574 - accuracy: 0.7160 - val_loss: 0.8585 - val_accuracy: 0.7209\n",
      "Epoch 18/50\n",
      "938/938 [==============================] - 177s 188ms/step - loss: 0.8464 - accuracy: 0.7198 - val_loss: 0.8509 - val_accuracy: 0.7245\n",
      "Epoch 19/50\n",
      "938/938 [==============================] - 177s 189ms/step - loss: 0.8361 - accuracy: 0.7232 - val_loss: 0.8439 - val_accuracy: 0.7263\n",
      "Epoch 20/50\n",
      "938/938 [==============================] - 177s 189ms/step - loss: 0.8266 - accuracy: 0.7261 - val_loss: 0.8376 - val_accuracy: 0.7264\n",
      "Epoch 21/50\n",
      "938/938 [==============================] - 177s 188ms/step - loss: 0.8177 - accuracy: 0.7292 - val_loss: 0.8319 - val_accuracy: 0.7285\n",
      "Epoch 22/50\n",
      "938/938 [==============================] - 177s 188ms/step - loss: 0.8094 - accuracy: 0.7315 - val_loss: 0.8266 - val_accuracy: 0.7291\n",
      "Epoch 23/50\n",
      "938/938 [==============================] - 177s 189ms/step - loss: 0.8016 - accuracy: 0.7343 - val_loss: 0.8218 - val_accuracy: 0.7293\n",
      "Epoch 24/50\n",
      "938/938 [==============================] - 177s 189ms/step - loss: 0.7943 - accuracy: 0.7368 - val_loss: 0.8174 - val_accuracy: 0.7307\n",
      "Epoch 25/50\n",
      "938/938 [==============================] - 177s 189ms/step - loss: 0.7873 - accuracy: 0.7389 - val_loss: 0.8133 - val_accuracy: 0.7315\n",
      "Epoch 26/50\n",
      "938/938 [==============================] - 177s 188ms/step - loss: 0.7808 - accuracy: 0.7412 - val_loss: 0.8096 - val_accuracy: 0.7328\n",
      "Epoch 27/50\n",
      "938/938 [==============================] - 177s 189ms/step - loss: 0.7746 - accuracy: 0.7430 - val_loss: 0.8061 - val_accuracy: 0.7335\n",
      "Epoch 28/50\n",
      "938/938 [==============================] - 177s 188ms/step - loss: 0.7687 - accuracy: 0.7453 - val_loss: 0.8029 - val_accuracy: 0.7339\n",
      "Epoch 29/50\n",
      "938/938 [==============================] - 177s 188ms/step - loss: 0.7631 - accuracy: 0.7472 - val_loss: 0.7999 - val_accuracy: 0.7351\n",
      "Epoch 30/50\n",
      "938/938 [==============================] - 177s 189ms/step - loss: 0.7578 - accuracy: 0.7489 - val_loss: 0.7972 - val_accuracy: 0.7358\n",
      "Epoch 31/50\n",
      "938/938 [==============================] - 177s 188ms/step - loss: 0.7527 - accuracy: 0.7506 - val_loss: 0.7946 - val_accuracy: 0.7366\n",
      "Epoch 32/50\n",
      "938/938 [==============================] - 177s 189ms/step - loss: 0.7478 - accuracy: 0.7519 - val_loss: 0.7922 - val_accuracy: 0.7376\n",
      "Epoch 33/50\n",
      "938/938 [==============================] - 177s 189ms/step - loss: 0.7432 - accuracy: 0.7532 - val_loss: 0.7900 - val_accuracy: 0.7383\n",
      "Epoch 34/50\n",
      "938/938 [==============================] - 177s 188ms/step - loss: 0.7388 - accuracy: 0.7547 - val_loss: 0.7879 - val_accuracy: 0.7387\n",
      "Epoch 35/50\n",
      "938/938 [==============================] - 177s 188ms/step - loss: 0.7345 - accuracy: 0.7560 - val_loss: 0.7859 - val_accuracy: 0.7396\n",
      "Epoch 36/50\n",
      "938/938 [==============================] - 177s 188ms/step - loss: 0.7304 - accuracy: 0.7573 - val_loss: 0.7841 - val_accuracy: 0.7395\n",
      "Epoch 37/50\n",
      "938/938 [==============================] - 177s 188ms/step - loss: 0.7265 - accuracy: 0.7583 - val_loss: 0.7824 - val_accuracy: 0.7404\n",
      "Epoch 38/50\n",
      "938/938 [==============================] - 177s 188ms/step - loss: 0.7228 - accuracy: 0.7592 - val_loss: 0.7808 - val_accuracy: 0.7404\n",
      "Epoch 39/50\n",
      "938/938 [==============================] - 177s 189ms/step - loss: 0.7191 - accuracy: 0.7608 - val_loss: 0.7793 - val_accuracy: 0.7410\n",
      "Epoch 40/50\n",
      "938/938 [==============================] - 177s 188ms/step - loss: 0.7156 - accuracy: 0.7617 - val_loss: 0.7779 - val_accuracy: 0.7423\n",
      "Epoch 41/50\n",
      "938/938 [==============================] - 177s 188ms/step - loss: 0.7123 - accuracy: 0.7628 - val_loss: 0.7766 - val_accuracy: 0.7426\n",
      "Epoch 42/50\n",
      "938/938 [==============================] - 177s 188ms/step - loss: 0.7090 - accuracy: 0.7639 - val_loss: 0.7754 - val_accuracy: 0.7436\n",
      "Epoch 43/50\n",
      "938/938 [==============================] - 177s 188ms/step - loss: 0.7059 - accuracy: 0.7648 - val_loss: 0.7743 - val_accuracy: 0.7432\n",
      "Epoch 44/50\n",
      "938/938 [==============================] - 177s 188ms/step - loss: 0.7029 - accuracy: 0.7660 - val_loss: 0.7732 - val_accuracy: 0.7430\n",
      "Epoch 45/50\n",
      "938/938 [==============================] - 177s 189ms/step - loss: 0.6999 - accuracy: 0.7667 - val_loss: 0.7722 - val_accuracy: 0.7430\n",
      "Epoch 46/50\n",
      "938/938 [==============================] - 177s 189ms/step - loss: 0.6971 - accuracy: 0.7674 - val_loss: 0.7713 - val_accuracy: 0.7434\n",
      "Epoch 47/50\n",
      "938/938 [==============================] - 177s 188ms/step - loss: 0.6943 - accuracy: 0.7682 - val_loss: 0.7704 - val_accuracy: 0.7445\n",
      "Epoch 48/50\n",
      "938/938 [==============================] - 177s 188ms/step - loss: 0.6917 - accuracy: 0.7691 - val_loss: 0.7696 - val_accuracy: 0.7446\n",
      "Epoch 49/50\n",
      "938/938 [==============================] - 177s 188ms/step - loss: 0.6891 - accuracy: 0.7700 - val_loss: 0.7688 - val_accuracy: 0.7446\n",
      "Epoch 50/50\n",
      "938/938 [==============================] - 177s 189ms/step - loss: 0.6866 - accuracy: 0.7707 - val_loss: 0.7681 - val_accuracy: 0.7453\n"
     ]
    },
    {
     "data": {
      "image/png": "[encoded data removed]",
      "text/plain": [
       "<Figure size 432x288 with 1 Axes>"
      ]
     },
     "metadata": {
      "needs_background": "light"
     },
     "output_type": "display_data"
    }
   ],
   "source": [
    "# Get linear model and compile\n",
    "tf.keras.backend.clear_session()\n",
    "model = get_linear_classifier(rn50)\n",
    "model.compile(loss=\"sparse_categorical_crossentropy\", metrics=[\"accuracy\"],\n",
    "                     optimizer=\"adam\")\n",
    "\n",
    "# Train \n",
    "history = model.fit(training_ds,\n",
    "                 validation_data=validation_ds,\n",
    "                 epochs=50,\n",
    "                 callbacks=[early_stopper]\n",
    "                 )\n",
    "plot_progress(history)"
   ]
  },
  {
   "cell_type": "code",
   "execution_count": 14,
   "metadata": {
    "colab": {
     "base_uri": "https://localhost:8080/"
    },
    "id": "NctQf484t4GR",
    "outputId": "d1449782-c614-41ff-b5a5-6448978db53f"
   },
   "outputs": [
    {
     "name": "stdout",
     "output_type": "stream",
     "text": [
      "157/157 [==============================] - 25s 161ms/step - loss: 0.7681 - accuracy: 0.7453\n",
      "Validation accuracy: 74.53\n"
     ]
    }
   ],
   "source": [
    "_, acc = model.evaluate(validation_ds)\n",
    "print('Validation accuracy:', round(acc*100, 2))"
   ]
  },
  {
   "cell_type": "markdown",
   "metadata": {
    "id": "ykzPyP-uyJRu"
   },
   "source": [
    "For a minimal implementation the scores aren't that bad. "
   ]
  },
  {
   "cell_type": "code",
   "execution_count": 15,
   "metadata": {},
   "outputs": [
    {
     "data": {
      "image/png": "[encoded data removed]",
      "text/plain": [
       "<Figure size 720x432 with 1 Axes>"
      ]
     },
     "metadata": {
      "needs_background": "light"
     },
     "output_type": "display_data"
    },
    {
     "data": {
      "image/png": "[encoded data removed]",
      "text/plain": [
       "<Figure size 720x432 with 1 Axes>"
      ]
     },
     "metadata": {
      "needs_background": "light"
     },
     "output_type": "display_data"
    }
   ],
   "source": [
    "def plot_progress_acc(hist):\n",
    "    fig, axs = plt.subplots(1,1, figsize=(10,6))\n",
    "    plt.plot(hist.history[\"accuracy\"], label=\"training_accuracy\")\n",
    "    plt.plot(hist.history[\"val_accuracy\"], label=\"validation_accuracy\")\n",
    "    plt.title(\"Training Progress -- Accuracy\", size=20)\n",
    "    plt.ylabel(\"accuracy\", size=20); plt.yticks(size=15)\n",
    "    plt.xlabel(\"epoch\", size=20); plt.xticks(size=15)\n",
    "    plt.legend(loc=\"upper left\")\n",
    "    plt.grid()\n",
    "    plt.show()\n",
    "\n",
    "def plot_progress_loss(hist):\n",
    "    fig, axs = plt.subplots(1,1, figsize=(10,6))\n",
    "    plt.plot(hist.history[\"loss\"], label=\"train_loss\")\n",
    "    plt.plot(hist.history[\"val_loss\"], label=\"validation_loss\")\n",
    "    plt.title(\"Training Progress -- Loss\", size=20)\n",
    "    plt.ylabel(\"loss\", size=20); plt.yticks(size=15)\n",
    "    plt.xlabel(\"epoch\", size=20); plt.xticks(size=15)\n",
    "    plt.legend(loc=\"lower left\")\n",
    "    plt.grid()\n",
    "    plt.show()\n",
    "\n",
    "plot_progress_acc(history)\n",
    "plot_progress_loss(history)"
   ]
  },
  {
   "cell_type": "code",
   "execution_count": null,
   "metadata": {},
   "outputs": [],
   "source": []
  }
 ],
 "metadata": {
  "accelerator": "GPU",
  "colab": {
   "authorship_tag": "ABX9TyMAleSaBYAAgM4+rTN5xy7y",
   "collapsed_sections": [],
   "include_colab_link": true,
   "name": "SimSiam_Evaluation.ipynb",
   "provenance": []
  },
  "kernelspec": {
   "display_name": "Python 3",
   "language": "python",
   "name": "python3"
  },
  "language_info": {
   "codemirror_mode": {
    "name": "ipython",
    "version": 3
   },
   "file_extension": ".py",
   "mimetype": "text/x-python",
   "name": "python",
   "nbconvert_exporter": "python",
   "pygments_lexer": "ipython3",
   "version": "3.8.11"
  }
 },
 "nbformat": 4,
 "nbformat_minor": 1
}
